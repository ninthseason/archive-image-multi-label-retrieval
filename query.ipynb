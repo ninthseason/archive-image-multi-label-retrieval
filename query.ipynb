{
 "cells": [
  {
   "cell_type": "code",
   "execution_count": 1,
   "metadata": {
    "collapsed": true,
    "ExecuteTime": {
     "end_time": "2023-08-28T15:00:56.858368300Z",
     "start_time": "2023-08-28T15:00:45.083146700Z"
    }
   },
   "outputs": [],
   "source": [
    "# import pandas as pd\n",
    "#\n",
    "# test_label = pd.read_csv(\"test_label.csv\")"
   ]
  },
  {
   "cell_type": "code",
   "execution_count": 16,
   "outputs": [
    {
     "name": "stderr",
     "output_type": "stream",
     "text": [
      "100%|██████████| 25000/25000 [06:44<00:00, 61.73it/s]\n"
     ]
    }
   ],
   "source": [
    "# import numpy as np\n",
    "# from tqdm import tqdm\n",
    "#\n",
    "# test_label_metrix = []\n",
    "# for i in tqdm(test_label['vector']):\n",
    "#     test_label_metrix.append(eval(i))"
   ],
   "metadata": {
    "collapsed": false,
    "ExecuteTime": {
     "end_time": "2023-08-28T15:15:49.839343200Z",
     "start_time": "2023-08-28T15:09:04.802630300Z"
    }
   }
  },
  {
   "cell_type": "code",
   "execution_count": 20,
   "outputs": [],
   "source": [
    "# test_label_metrix_np = np.array(test_label_metrix)"
   ],
   "metadata": {
    "collapsed": false,
    "ExecuteTime": {
     "end_time": "2023-08-28T15:17:41.226826800Z",
     "start_time": "2023-08-28T15:17:35.145961200Z"
    }
   }
  },
  {
   "cell_type": "code",
   "execution_count": 23,
   "outputs": [],
   "source": [
    "# test_label_metrix_np.shape\n",
    "# np.save(\"test_label_np.npy\", test_label_metrix_np)"
   ],
   "metadata": {
    "collapsed": false,
    "ExecuteTime": {
     "end_time": "2023-08-28T15:18:19.281014600Z",
     "start_time": "2023-08-28T15:18:18.078230700Z"
    }
   }
  },
  {
   "cell_type": "code",
   "execution_count": 1,
   "outputs": [],
   "source": [
    "import numpy as np\n",
    "\n",
    "test_label_metrix = np.load('test_label_np.npy')"
   ],
   "metadata": {
    "collapsed": false,
    "ExecuteTime": {
     "end_time": "2023-08-29T12:22:34.378517700Z",
     "start_time": "2023-08-29T12:22:33.829127400Z"
    }
   }
  },
  {
   "cell_type": "code",
   "execution_count": 2,
   "outputs": [
    {
     "name": "stdout",
     "output_type": "stream",
     "text": [
      "(25000, 4375)\n"
     ]
    },
    {
     "data": {
      "text/plain": "array([-4.3794274, -4.7746954, -1.321032 , ..., -3.0502648, -3.1049044,\n       -4.999597 ], dtype=float32)"
     },
     "execution_count": 2,
     "metadata": {},
     "output_type": "execute_result"
    }
   ],
   "source": [
    "print(test_label_metrix.shape)\n",
    "test_label_metrix[0]"
   ],
   "metadata": {
    "collapsed": false,
    "ExecuteTime": {
     "end_time": "2023-08-29T12:22:34.998338100Z",
     "start_time": "2023-08-29T12:22:34.986337500Z"
    }
   }
  },
  {
   "cell_type": "code",
   "execution_count": 17,
   "outputs": [
    {
     "name": "stdout",
     "output_type": "stream",
     "text": [
      "['双手', '男人', '滑车', '滑板车', '亮堂', '帽子', '东西', '滑轮', '溜冰场', '滑板', '大厅', '木棒']\n"
     ]
    }
   ],
   "source": [
    "import pandas as pd\n",
    "\n",
    "test_query = pd.read_csv(\"data/test_query.csv\", header=None)\n",
    "test_query = test_query[0].map(lambda x: eval(x))\n",
    "print(test_query[245])"
   ],
   "metadata": {
    "collapsed": false,
    "ExecuteTime": {
     "end_time": "2023-08-30T07:32:49.527392500Z",
     "start_time": "2023-08-30T07:32:48.836876700Z"
    }
   }
  },
  {
   "cell_type": "code",
   "execution_count": 1,
   "outputs": [],
   "source": [
    "import json\n",
    "category_map = {}\n",
    "with open(\"category_map.json\", \"r\") as f:\n",
    "    category_map = json.load(f)"
   ],
   "metadata": {
    "collapsed": false,
    "ExecuteTime": {
     "end_time": "2023-08-30T02:14:37.249985900Z",
     "start_time": "2023-08-30T02:14:37.243363300Z"
    }
   }
  },
  {
   "cell_type": "code",
   "execution_count": 11,
   "outputs": [],
   "source": [
    "import  numpy as np\n",
    "\n",
    "test_query = np.load(\"query_label_processed.npy\", allow_pickle=True)\n",
    "\n",
    "test_query_np = []\n",
    "for i in test_query:\n",
    "    arr = np.zeros([4375])\n",
    "    for j in i:\n",
    "        if j in category_map:\n",
    "            arr[category_map[j]] = 1\n",
    "    test_query_np.append(arr)"
   ],
   "metadata": {
    "collapsed": false,
    "ExecuteTime": {
     "end_time": "2023-08-30T06:40:12.356813500Z",
     "start_time": "2023-08-30T06:40:11.711687600Z"
    }
   }
  },
  {
   "cell_type": "code",
   "execution_count": 12,
   "outputs": [],
   "source": [
    "test_query_np = np.array(test_query_np)"
   ],
   "metadata": {
    "collapsed": false,
    "ExecuteTime": {
     "end_time": "2023-08-30T06:40:19.829663500Z",
     "start_time": "2023-08-30T06:40:19.175481800Z"
    }
   }
  },
  {
   "cell_type": "code",
   "execution_count": 14,
   "outputs": [
    {
     "data": {
      "text/plain": "['双手', '草坪', '球杆', '上挥', '墨镜', '帽子', '男士', '男人', '草地']"
     },
     "execution_count": 14,
     "metadata": {},
     "output_type": "execute_result"
    }
   ],
   "source": [
    "test_query[0]"
   ],
   "metadata": {
    "collapsed": false,
    "ExecuteTime": {
     "end_time": "2023-08-30T06:40:38.377458900Z",
     "start_time": "2023-08-30T06:40:38.359426100Z"
    }
   }
  },
  {
   "cell_type": "code",
   "execution_count": 15,
   "outputs": [],
   "source": [
    "np.save(\"query_label_processed_np.npy\", test_query_np)"
   ],
   "metadata": {
    "collapsed": false,
    "ExecuteTime": {
     "end_time": "2023-08-30T06:40:45.561147900Z",
     "start_time": "2023-08-30T06:40:44.791499Z"
    }
   }
  },
  {
   "cell_type": "code",
   "execution_count": 2,
   "outputs": [],
   "source": [
    "import numpy as np\n",
    "query_query_np = np.load(\"query_label_np.npy\")"
   ],
   "metadata": {
    "collapsed": false,
    "ExecuteTime": {
     "end_time": "2023-08-29T16:23:09.733018300Z",
     "start_time": "2023-08-29T16:23:09.432220700Z"
    }
   }
  },
  {
   "cell_type": "code",
   "execution_count": 5,
   "outputs": [
    {
     "data": {
      "text/plain": "(array([  37,  176,  265, 1175, 1634, 3186, 3289, 3685, 3758], dtype=int64),)"
     },
     "execution_count": 5,
     "metadata": {},
     "output_type": "execute_result"
    }
   ],
   "source": [
    "idx = np.where(query_query_np[0] == 1)\n",
    "idx"
   ],
   "metadata": {
    "collapsed": false,
    "ExecuteTime": {
     "end_time": "2023-08-29T16:23:29.056573300Z",
     "start_time": "2023-08-29T16:23:29.044805400Z"
    }
   }
  },
  {
   "cell_type": "code",
   "execution_count": 6,
   "outputs": [
    {
     "name": "stdout",
     "output_type": "stream",
     "text": [
      "37 双手\n",
      "176 草坪\n",
      "265 帽子\n",
      "1175 上挥\n",
      "1634 球杆\n",
      "3186 男人\n",
      "3289 草地\n",
      "3685 墨镜\n",
      "3758 男士\n"
     ]
    }
   ],
   "source": [
    "import json\n",
    "with open(\"category_map.json\", \"r\") as f:\n",
    "    cate = json.load(f)\n",
    "\n",
    "r_cate = {cate[i]: i for i in cate}\n",
    "\n",
    "for i in idx[0]:\n",
    "    print(i, r_cate[i])"
   ],
   "metadata": {
    "collapsed": false,
    "ExecuteTime": {
     "end_time": "2023-08-29T16:23:29.964431300Z",
     "start_time": "2023-08-29T16:23:29.932306600Z"
    }
   }
  },
  {
   "cell_type": "code",
   "execution_count": 8,
   "outputs": [],
   "source": [
    "# 计算余弦相似度\n",
    "def cosine_similarity(vec1, vec2):\n",
    "    dot_product = np.dot(vec1, vec2)\n",
    "    norm1 = np.linalg.norm(vec1)\n",
    "    norm2 = np.linalg.norm(vec2)\n",
    "    similarity = dot_product / (norm1 * norm2)\n",
    "    return similarity"
   ],
   "metadata": {
    "collapsed": false,
    "ExecuteTime": {
     "end_time": "2023-08-29T12:22:55.883497700Z",
     "start_time": "2023-08-29T12:22:55.856035100Z"
    }
   }
  },
  {
   "cell_type": "code",
   "execution_count": 12,
   "outputs": [],
   "source": [
    "def label_filter(query, label_vec):\n",
    "    query = np.where(query == 1, True, False)\n",
    "    return np.sum(label_vec[query])"
   ],
   "metadata": {
    "collapsed": false,
    "ExecuteTime": {
     "end_time": "2023-08-29T09:26:07.176288600Z",
     "start_time": "2023-08-29T09:26:07.159109700Z"
    }
   }
  },
  {
   "cell_type": "code",
   "execution_count": 10,
   "outputs": [],
   "source": [
    "test_label = pd.read_csv(\"test_label.csv\")"
   ],
   "metadata": {
    "collapsed": false,
    "ExecuteTime": {
     "end_time": "2023-08-29T12:23:25.107361400Z",
     "start_time": "2023-08-29T12:23:13.820061200Z"
    }
   }
  },
  {
   "cell_type": "code",
   "execution_count": 6,
   "outputs": [
    {
     "data": {
      "text/plain": "       Unnamed: 0                                  filename  \\\n0               0  00052fbb-bc66-4981-a5b8-657cece65474.jpg   \n1               1  00056100-079c-4340-bf3b-fa0c39672388.jpg   \n2               2  00066881-c3d3-42e7-8574-f4837dfa8e96.jpg   \n3               3  0008378f-7e9e-49d5-b54d-04a271647aa9.jpg   \n4               4  000908b5-6f73-4582-a79f-2de5e7094800.jpg   \n...           ...                                       ...   \n24995       24995  fff58952-7513-4144-8ce9-78c1112ed6fd.jpg   \n24996       24996  fff5cb0a-6e89-42bd-ae14-989cda7f97d6.jpg   \n24997       24997  fff8541d-425f-4a15-b2a9-34d32d09bb0e.jpg   \n24998       24998  fffc55c6-063a-45b5-9edb-61438bf5f98d.jpg   \n24999       24999  fffcebe0-edda-4153-b72d-076fbeaac9a5.jpg   \n\n                                                  vector  \n0      [0.12004861, -0.76521045, 0.15136011, 0.099144...  \n1      [0.92215645, -0.9495212, 0.14619908, -0.628865...  \n2      [0.59581876, 0.012878652, 1.0706635, 0.0139149...  \n3      [0.42760938, -0.6176873, -0.07277152, 0.072084...  \n4      [0.24775293, -0.3519494, -0.2148024, 0.1405869...  \n...                                                  ...  \n24995  [0.20735091, -0.70538855, 0.1336636, 0.5180926...  \n24996  [0.8947249, -0.59305406, -0.5700437, 0.0099920...  \n24997  [0.18543395, -0.51685876, 0.26987132, -0.01460...  \n24998  [0.9293775, -0.507025, 0.2716504, 0.5068123, -...  \n24999  [0.234783, -0.3023873, 0.07463476, 0.46493214,...  \n\n[25000 rows x 3 columns]",
      "text/html": "<div>\n<style scoped>\n    .dataframe tbody tr th:only-of-type {\n        vertical-align: middle;\n    }\n\n    .dataframe tbody tr th {\n        vertical-align: top;\n    }\n\n    .dataframe thead th {\n        text-align: right;\n    }\n</style>\n<table border=\"1\" class=\"dataframe\">\n  <thead>\n    <tr style=\"text-align: right;\">\n      <th></th>\n      <th>Unnamed: 0</th>\n      <th>filename</th>\n      <th>vector</th>\n    </tr>\n  </thead>\n  <tbody>\n    <tr>\n      <th>0</th>\n      <td>0</td>\n      <td>00052fbb-bc66-4981-a5b8-657cece65474.jpg</td>\n      <td>[0.12004861, -0.76521045, 0.15136011, 0.099144...</td>\n    </tr>\n    <tr>\n      <th>1</th>\n      <td>1</td>\n      <td>00056100-079c-4340-bf3b-fa0c39672388.jpg</td>\n      <td>[0.92215645, -0.9495212, 0.14619908, -0.628865...</td>\n    </tr>\n    <tr>\n      <th>2</th>\n      <td>2</td>\n      <td>00066881-c3d3-42e7-8574-f4837dfa8e96.jpg</td>\n      <td>[0.59581876, 0.012878652, 1.0706635, 0.0139149...</td>\n    </tr>\n    <tr>\n      <th>3</th>\n      <td>3</td>\n      <td>0008378f-7e9e-49d5-b54d-04a271647aa9.jpg</td>\n      <td>[0.42760938, -0.6176873, -0.07277152, 0.072084...</td>\n    </tr>\n    <tr>\n      <th>4</th>\n      <td>4</td>\n      <td>000908b5-6f73-4582-a79f-2de5e7094800.jpg</td>\n      <td>[0.24775293, -0.3519494, -0.2148024, 0.1405869...</td>\n    </tr>\n    <tr>\n      <th>...</th>\n      <td>...</td>\n      <td>...</td>\n      <td>...</td>\n    </tr>\n    <tr>\n      <th>24995</th>\n      <td>24995</td>\n      <td>fff58952-7513-4144-8ce9-78c1112ed6fd.jpg</td>\n      <td>[0.20735091, -0.70538855, 0.1336636, 0.5180926...</td>\n    </tr>\n    <tr>\n      <th>24996</th>\n      <td>24996</td>\n      <td>fff5cb0a-6e89-42bd-ae14-989cda7f97d6.jpg</td>\n      <td>[0.8947249, -0.59305406, -0.5700437, 0.0099920...</td>\n    </tr>\n    <tr>\n      <th>24997</th>\n      <td>24997</td>\n      <td>fff8541d-425f-4a15-b2a9-34d32d09bb0e.jpg</td>\n      <td>[0.18543395, -0.51685876, 0.26987132, -0.01460...</td>\n    </tr>\n    <tr>\n      <th>24998</th>\n      <td>24998</td>\n      <td>fffc55c6-063a-45b5-9edb-61438bf5f98d.jpg</td>\n      <td>[0.9293775, -0.507025, 0.2716504, 0.5068123, -...</td>\n    </tr>\n    <tr>\n      <th>24999</th>\n      <td>24999</td>\n      <td>fffcebe0-edda-4153-b72d-076fbeaac9a5.jpg</td>\n      <td>[0.234783, -0.3023873, 0.07463476, 0.46493214,...</td>\n    </tr>\n  </tbody>\n</table>\n<p>25000 rows × 3 columns</p>\n</div>"
     },
     "execution_count": 6,
     "metadata": {},
     "output_type": "execute_result"
    }
   ],
   "source": [
    "test_label"
   ],
   "metadata": {
    "collapsed": false,
    "ExecuteTime": {
     "end_time": "2023-08-29T09:23:24.833628200Z",
     "start_time": "2023-08-29T09:23:24.807544900Z"
    }
   }
  },
  {
   "cell_type": "code",
   "execution_count": 11,
   "outputs": [
    {
     "name": "stderr",
     "output_type": "stream",
     "text": [
      "  0%|          | 8/25000 [00:03<3:00:40,  2.31it/s]\n"
     ]
    },
    {
     "ename": "KeyboardInterrupt",
     "evalue": "",
     "output_type": "error",
     "traceback": [
      "\u001B[1;31m---------------------------------------------------------------------------\u001B[0m",
      "\u001B[1;31mKeyboardInterrupt\u001B[0m                         Traceback (most recent call last)",
      "Cell \u001B[1;32mIn[11], line 7\u001B[0m\n\u001B[0;32m      3\u001B[0m \u001B[38;5;28;01mwith\u001B[39;00m \u001B[38;5;28mopen\u001B[39m(\u001B[38;5;124m\"\u001B[39m\u001B[38;5;124msubmit_v3.csv\u001B[39m\u001B[38;5;124m\"\u001B[39m, \u001B[38;5;124m\"\u001B[39m\u001B[38;5;124mw\u001B[39m\u001B[38;5;124m\"\u001B[39m) \u001B[38;5;28;01mas\u001B[39;00m f:\n\u001B[0;32m      4\u001B[0m \n\u001B[0;32m      5\u001B[0m     \u001B[38;5;66;03m# 对于每个查询，计算相似度并选择top_k图片\u001B[39;00m\n\u001B[0;32m      6\u001B[0m     \u001B[38;5;28;01mfor\u001B[39;00m query_vec \u001B[38;5;129;01min\u001B[39;00m tqdm(query_query_np):\n\u001B[1;32m----> 7\u001B[0m         similarities \u001B[38;5;241m=\u001B[39m np\u001B[38;5;241m.\u001B[39marray([cosine_similarity(query_vec, img_vec) \u001B[38;5;28;01mfor\u001B[39;00m img_vec \u001B[38;5;129;01min\u001B[39;00m test_label_metrix])\n\u001B[0;32m      8\u001B[0m         top_k_indices \u001B[38;5;241m=\u001B[39m np\u001B[38;5;241m.\u001B[39margsort(\u001B[38;5;241m-\u001B[39msimilarities)[:\u001B[38;5;241m5\u001B[39m]  \u001B[38;5;66;03m# 假设选择相似度最高的5张图片\u001B[39;00m\n\u001B[0;32m      9\u001B[0m         line \u001B[38;5;241m=\u001B[39m \u001B[38;5;124m'\u001B[39m\u001B[38;5;124m,\u001B[39m\u001B[38;5;124m'\u001B[39m\u001B[38;5;241m.\u001B[39mjoin(\u001B[38;5;28mlist\u001B[39m(test_label[\u001B[38;5;124m'\u001B[39m\u001B[38;5;124mfilename\u001B[39m\u001B[38;5;124m'\u001B[39m][top_k_indices])) \u001B[38;5;241m+\u001B[39m \u001B[38;5;124m'\u001B[39m\u001B[38;5;130;01m\\n\u001B[39;00m\u001B[38;5;124m'\u001B[39m\n",
      "Cell \u001B[1;32mIn[11], line 7\u001B[0m, in \u001B[0;36m<listcomp>\u001B[1;34m(.0)\u001B[0m\n\u001B[0;32m      3\u001B[0m \u001B[38;5;28;01mwith\u001B[39;00m \u001B[38;5;28mopen\u001B[39m(\u001B[38;5;124m\"\u001B[39m\u001B[38;5;124msubmit_v3.csv\u001B[39m\u001B[38;5;124m\"\u001B[39m, \u001B[38;5;124m\"\u001B[39m\u001B[38;5;124mw\u001B[39m\u001B[38;5;124m\"\u001B[39m) \u001B[38;5;28;01mas\u001B[39;00m f:\n\u001B[0;32m      4\u001B[0m \n\u001B[0;32m      5\u001B[0m     \u001B[38;5;66;03m# 对于每个查询，计算相似度并选择top_k图片\u001B[39;00m\n\u001B[0;32m      6\u001B[0m     \u001B[38;5;28;01mfor\u001B[39;00m query_vec \u001B[38;5;129;01min\u001B[39;00m tqdm(query_query_np):\n\u001B[1;32m----> 7\u001B[0m         similarities \u001B[38;5;241m=\u001B[39m np\u001B[38;5;241m.\u001B[39marray([\u001B[43mcosine_similarity\u001B[49m\u001B[43m(\u001B[49m\u001B[43mquery_vec\u001B[49m\u001B[43m,\u001B[49m\u001B[43m \u001B[49m\u001B[43mimg_vec\u001B[49m\u001B[43m)\u001B[49m \u001B[38;5;28;01mfor\u001B[39;00m img_vec \u001B[38;5;129;01min\u001B[39;00m test_label_metrix])\n\u001B[0;32m      8\u001B[0m         top_k_indices \u001B[38;5;241m=\u001B[39m np\u001B[38;5;241m.\u001B[39margsort(\u001B[38;5;241m-\u001B[39msimilarities)[:\u001B[38;5;241m5\u001B[39m]  \u001B[38;5;66;03m# 假设选择相似度最高的5张图片\u001B[39;00m\n\u001B[0;32m      9\u001B[0m         line \u001B[38;5;241m=\u001B[39m \u001B[38;5;124m'\u001B[39m\u001B[38;5;124m,\u001B[39m\u001B[38;5;124m'\u001B[39m\u001B[38;5;241m.\u001B[39mjoin(\u001B[38;5;28mlist\u001B[39m(test_label[\u001B[38;5;124m'\u001B[39m\u001B[38;5;124mfilename\u001B[39m\u001B[38;5;124m'\u001B[39m][top_k_indices])) \u001B[38;5;241m+\u001B[39m \u001B[38;5;124m'\u001B[39m\u001B[38;5;130;01m\\n\u001B[39;00m\u001B[38;5;124m'\u001B[39m\n",
      "Cell \u001B[1;32mIn[8], line 3\u001B[0m, in \u001B[0;36mcosine_similarity\u001B[1;34m(vec1, vec2)\u001B[0m\n\u001B[0;32m      2\u001B[0m \u001B[38;5;28;01mdef\u001B[39;00m \u001B[38;5;21mcosine_similarity\u001B[39m(vec1, vec2):\n\u001B[1;32m----> 3\u001B[0m     dot_product \u001B[38;5;241m=\u001B[39m \u001B[43mnp\u001B[49m\u001B[38;5;241;43m.\u001B[39;49m\u001B[43mdot\u001B[49m\u001B[43m(\u001B[49m\u001B[43mvec1\u001B[49m\u001B[43m,\u001B[49m\u001B[43m \u001B[49m\u001B[43mvec2\u001B[49m\u001B[43m)\u001B[49m\n\u001B[0;32m      4\u001B[0m     norm1 \u001B[38;5;241m=\u001B[39m np\u001B[38;5;241m.\u001B[39mlinalg\u001B[38;5;241m.\u001B[39mnorm(vec1)\n\u001B[0;32m      5\u001B[0m     norm2 \u001B[38;5;241m=\u001B[39m np\u001B[38;5;241m.\u001B[39mlinalg\u001B[38;5;241m.\u001B[39mnorm(vec2)\n",
      "File \u001B[1;32m<__array_function__ internals>:180\u001B[0m, in \u001B[0;36mdot\u001B[1;34m(*args, **kwargs)\u001B[0m\n",
      "\u001B[1;31mKeyboardInterrupt\u001B[0m: "
     ]
    }
   ],
   "source": [
    "from tqdm import tqdm\n",
    "\n",
    "with open(\"submit_v3.csv\", \"w\") as f:\n",
    "\n",
    "    # 对于每个查询，计算相似度并选择top_k图片\n",
    "    for query_vec in tqdm(query_query_np):\n",
    "        similarities = np.array([cosine_similarity(query_vec, img_vec) for img_vec in test_label_metrix])\n",
    "        top_k_indices = np.argsort(-similarities)[:5]  # 假设选择相似度最高的5张图片\n",
    "        line = ','.join(list(test_label['filename'][top_k_indices])) + '\\n'\n",
    "        f.write(line)\n",
    "        # break\n"
   ],
   "metadata": {
    "collapsed": false,
    "ExecuteTime": {
     "end_time": "2023-08-29T12:23:30.442240500Z",
     "start_time": "2023-08-29T12:23:26.918667Z"
    }
   }
  },
  {
   "cell_type": "code",
   "execution_count": null,
   "outputs": [],
   "source": [
    "def voc_ap(rec, prec, true_num):\n",
    "    mrec = np.concatenate(([0.], rec, [1.]))\n",
    "    mpre = np.concatenate(([0.], prec, [0.]))\n",
    "    for i in range(mpre.size - 1, 0, -1):\n",
    "        mpre[i - 1] = np.maximum(mpre[i - 1], mpre[i])\n",
    "    i = np.where(mrec[1:] != mrec[:-1])[0]\n",
    "    ap = np.sum((mrec[i + 1] - mrec[i]) * mpre[i + 1])\n",
    "    return ap\n",
    "\n",
    "def voc_mAP(imagessetfilelist, num, return_each=False):\n",
    "    if isinstance(imagessetfilelist, str):\n",
    "        imagessetfilelist = [imagessetfilelist]\n",
    "    lines = []\n",
    "    for imagessetfile in imagessetfilelist:\n",
    "        with open(imagessetfile, 'r') as f:\n",
    "            lines.extend(f.readlines())\n",
    "\n",
    "    seg = np.array([x.strip().split(' ') for x in lines]).astype(float)\n",
    "    gt_label = seg[:,num:].astype(np.int32)\n",
    "    num_target = np.sum(gt_label, axis=1, keepdims = True)\n",
    "\n",
    "\n",
    "    sample_num = len(gt_label)\n",
    "    class_num = num\n",
    "    tp = np.zeros(sample_num)\n",
    "    fp = np.zeros(sample_num)\n",
    "    aps = []\n",
    "\n",
    "    for class_id in range(class_num):\n",
    "        confidence = seg[:,class_id]\n",
    "        sorted_ind = np.argsort(-confidence)\n",
    "        sorted_scores = np.sort(-confidence)\n",
    "        sorted_label = [gt_label[x][class_id] for x in sorted_ind]\n",
    "\n",
    "        for i in range(sample_num):\n",
    "            tp[i] = (sorted_label[i]>0)\n",
    "            fp[i] = (sorted_label[i]<=0)\n",
    "        true_num = 0\n",
    "        true_num = sum(tp)\n",
    "        fp = np.cumsum(fp)\n",
    "        tp = np.cumsum(tp)\n",
    "        rec = tp / float(true_num)\n",
    "        prec = tp / np.maximum(tp + fp, np.finfo(np.float64).eps)\n",
    "        ap = voc_ap(rec, prec, true_num)\n",
    "        aps += [ap]\n",
    "\n",
    "    np.set_printoptions(precision=6, suppress=True)\n",
    "    aps = np.array(aps) * 100\n",
    "    mAP = np.mean(aps)\n",
    "    if return_each:\n",
    "        return mAP, aps\n",
    "    return mAP"
   ],
   "metadata": {
    "collapsed": false
   }
  }
 ],
 "metadata": {
  "kernelspec": {
   "display_name": "Python 3",
   "language": "python",
   "name": "python3"
  },
  "language_info": {
   "codemirror_mode": {
    "name": "ipython",
    "version": 2
   },
   "file_extension": ".py",
   "mimetype": "text/x-python",
   "name": "python",
   "nbconvert_exporter": "python",
   "pygments_lexer": "ipython2",
   "version": "2.7.6"
  }
 },
 "nbformat": 4,
 "nbformat_minor": 0
}
