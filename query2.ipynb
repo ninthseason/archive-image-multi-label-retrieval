{
 "cells": [
  {
   "cell_type": "code",
   "execution_count": 1,
   "metadata": {
    "collapsed": true,
    "ExecuteTime": {
     "end_time": "2023-08-31T12:54:18.199239400Z",
     "start_time": "2023-08-31T12:54:06.116822500Z"
    }
   },
   "outputs": [],
   "source": [
    "import pandas as pd\n",
    "import numpy as np\n",
    "\n",
    "test_label_np = np.load('test_label_np.npy')\n",
    "test_label = pd.read_csv(\"test_label.csv\")"
   ]
  },
  {
   "cell_type": "code",
   "execution_count": 12,
   "metadata": {
    "ExecuteTime": {
     "end_time": "2023-08-30T02:17:33.149639100Z",
     "start_time": "2023-08-30T02:17:33.130094500Z"
    }
   },
   "outputs": [
    {
     "name": "stdout",
     "output_type": "stream",
     "text": [
      "(25000, 4375)\n",
      "(25000, 3)\n",
      "   Unnamed: 0                                  filename  \\\n",
      "0           0  00052fbb-bc66-4981-a5b8-657cece65474.jpg   \n",
      "1           1  00056100-079c-4340-bf3b-fa0c39672388.jpg   \n",
      "2           2  00066881-c3d3-42e7-8574-f4837dfa8e96.jpg   \n",
      "3           3  0008378f-7e9e-49d5-b54d-04a271647aa9.jpg   \n",
      "4           4  000908b5-6f73-4582-a79f-2de5e7094800.jpg   \n",
      "\n",
      "                                              vector  \n",
      "0  [0.12004861, -0.76521045, 0.15136011, 0.099144...  \n",
      "1  [0.92215645, -0.9495212, 0.14619908, -0.628865...  \n",
      "2  [0.59581876, 0.012878652, 1.0706635, 0.0139149...  \n",
      "3  [0.42760938, -0.6176873, -0.07277152, 0.072084...  \n",
      "4  [0.24775293, -0.3519494, -0.2148024, 0.1405869...  \n",
      "[[-3.2140656 -3.6972532 -4.6058135 ... -3.1882322 -2.7203913 -4.542957 ]\n",
      " [-3.1019309 -2.1691084 -4.0610914 ... -2.921446  -3.6393511 -4.4575143]\n",
      " [-3.527786  -3.9894946 -4.693589  ... -3.1319866 -2.7486699 -4.549728 ]\n",
      " [-3.886122  -2.6658309 -4.3919845 ... -3.925885  -3.9227502 -4.450263 ]\n",
      " [-3.6533391 -1.8138016 -4.6714683 ... -3.9873679 -3.744487  -4.6757555]]\n"
     ]
    }
   ],
   "source": [
    "print(test_label_np.shape)\n",
    "print(test_label.shape)\n",
    "\n",
    "print(test_label.head())\n",
    "print(test_label_np[:5])"
   ]
  },
  {
   "cell_type": "code",
   "execution_count": 2,
   "metadata": {
    "ExecuteTime": {
     "end_time": "2023-08-31T12:54:25.573809300Z",
     "start_time": "2023-08-31T12:54:24.893442500Z"
    }
   },
   "outputs": [
    {
     "name": "stdout",
     "output_type": "stream",
     "text": [
      "0    [双手, 草坪, 球杆, 上挥, 墨镜, 帽子, 男士, 男人, 草地]\n",
      "1            [东西, 夹子, 双手, 男人, 栈道, 女人, 道路]\n",
      "2      [双手, 男人, 体育场, 草地, 双臂, 运动场, 穿着, 行走]\n",
      "3                    [草坪, 女人, 红色, 墨镜, 帽子]\n",
      "4        [穿着, 球衣, 球场上, 足球场, 运动场, 放在, 绿油油]\n",
      "Name: 0, dtype: object\n"
     ]
    }
   ],
   "source": [
    "test_query = pd.read_csv(\"data/test_query.csv\", header=None)\n",
    "test_query = test_query[0].map(lambda x: eval(x))\n",
    "print(test_query.head())"
   ]
  },
  {
   "cell_type": "code",
   "execution_count": 3,
   "metadata": {
    "ExecuteTime": {
     "end_time": "2023-08-31T12:54:34.766948600Z",
     "start_time": "2023-08-31T12:54:34.064541Z"
    }
   },
   "outputs": [
    {
     "name": "stdout",
     "output_type": "stream",
     "text": [
      "(array([   8,  682, 1887, 2598, 2662, 3186, 3423], dtype=int64),)\n"
     ]
    }
   ],
   "source": [
    "test_query_np = np.load(\"query_label_processed_np.npy\")\n",
    "test_query_sample = np.where(test_query_np[-1] == 1)\n",
    "print(test_query_sample)"
   ]
  },
  {
   "cell_type": "code",
   "execution_count": 5,
   "metadata": {
    "ExecuteTime": {
     "end_time": "2023-08-29T16:28:58.243119800Z",
     "start_time": "2023-08-29T16:28:58.185036200Z"
    }
   },
   "outputs": [],
   "source": [
    "# test_query_np = []\n",
    "# for i in test_query:\n",
    "#     arr = np.zeros([4375])\n",
    "#     for j in i:\n",
    "#         if j in cate:\n",
    "#             arr[cate[j]] = 1\n",
    "#     test_query_np.append(arr)\n",
    "#\n",
    "# test_query_np = np.array(test_query_np)\n",
    "# np.save(\"query_label_np.npy\", test_query_np)"
   ]
  },
  {
   "cell_type": "code",
   "execution_count": 4,
   "metadata": {
    "ExecuteTime": {
     "end_time": "2023-08-31T12:54:42.312914700Z",
     "start_time": "2023-08-31T12:54:42.285905200Z"
    }
   },
   "outputs": [
    {
     "name": "stdout",
     "output_type": "stream",
     "text": [
      "8 衣着\n",
      "682 身穿\n",
      "1887 条纹\n",
      "2598 屋子里\n",
      "2662 眼镜\n",
      "3186 男人\n",
      "3423 手臂\n"
     ]
    }
   ],
   "source": [
    "import json\n",
    "with open(\"category_map.json\", \"r\") as f:\n",
    "    cate = json.load(f)\n",
    "\n",
    "r_cate = {cate[i]: i for i in cate}\n",
    "\n",
    "for i in test_query_sample[0]:\n",
    "    print(i, r_cate[i])"
   ]
  },
  {
   "cell_type": "code",
   "execution_count": 17,
   "metadata": {
    "ExecuteTime": {
     "end_time": "2023-08-30T02:18:01.942790300Z",
     "start_time": "2023-08-30T02:17:58.039833700Z"
    }
   },
   "outputs": [
    {
     "name": "stdout",
     "output_type": "stream",
     "text": [
      "945 舞台\n",
      "2518 地站\n",
      "2721 话筒\n",
      "3186 男人\n"
     ]
    }
   ],
   "source": [
    "from dataset.cocodataset import CoCoDataset\n",
    "\n",
    "train_ds = CoCoDataset(\"\", \"\", input_transform=None, labels_path=\"query2labels/data/coco/train_label_vectors.npy\")\n",
    "for i in np.where(train_ds[0][1] == 1)[0]:\n",
    "    print(i, r_cate[i])"
   ]
  },
  {
   "cell_type": "code",
   "execution_count": 5,
   "metadata": {
    "ExecuteTime": {
     "end_time": "2023-08-31T12:54:49.624500300Z",
     "start_time": "2023-08-31T12:54:49.601020Z"
    }
   },
   "outputs": [],
   "source": [
    "# 计算余弦相似度\n",
    "def cosine_similarity(vec1, vec2):\n",
    "    dot_product = np.dot(vec1, vec2)\n",
    "    norm1 = np.linalg.norm(vec1)\n",
    "    norm2 = np.linalg.norm(vec2)\n",
    "    similarity = dot_product / (norm1 * norm2)\n",
    "    return similarity"
   ]
  },
  {
   "cell_type": "code",
   "execution_count": 25,
   "metadata": {
    "ExecuteTime": {
     "end_time": "2023-08-30T10:16:50.404379500Z",
     "start_time": "2023-08-30T10:16:50.389317500Z"
    }
   },
   "outputs": [],
   "source": [
    "def label_filter(query, label_vec):\n",
    "    query = np.where(query == 1, True, False)\n",
    "    return np.sum(label_vec[query])"
   ]
  },
  {
   "cell_type": "code",
   "execution_count": 6,
   "metadata": {
    "ExecuteTime": {
     "end_time": "2023-08-31T15:34:16.650946600Z",
     "start_time": "2023-08-31T12:54:53.644334500Z"
    }
   },
   "outputs": [
    {
     "name": "stderr",
     "output_type": "stream",
     "text": [
      " 39%|███▉      | 9804/25000 [1:01:50<1:38:50,  2.56it/s]C:\\Users\\23518\\AppData\\Local\\Temp\\ipykernel_19604\\2719652357.py:6: RuntimeWarning: invalid value encountered in double_scalars\n",
      "  similarity = dot_product / (norm1 * norm2)\n",
      " 40%|████      | 10068/25000 [1:03:34<2:36:37,  1.59it/s]C:\\Users\\23518\\AppData\\Local\\Temp\\ipykernel_19604\\2719652357.py:6: RuntimeWarning: invalid value encountered in double_scalars\n",
      "  similarity = dot_product / (norm1 * norm2)\n",
      " 67%|██████▋   | 16824/25000 [1:47:35<51:55,  2.62it/s]  C:\\Users\\23518\\AppData\\Local\\Temp\\ipykernel_19604\\2719652357.py:6: RuntimeWarning: invalid value encountered in double_scalars\n",
      "  similarity = dot_product / (norm1 * norm2)\n",
      "100%|██████████| 25000/25000 [2:39:22<00:00,  2.61it/s]\n"
     ]
    }
   ],
   "source": [
    "from tqdm import tqdm\n",
    "\n",
    "with open(\"submit_v9.csv\", \"w\") as f:\n",
    "    # 对于每个查询，计算相似度并选择top_k图片\n",
    "    for query_vec in tqdm(test_query_np):\n",
    "        similarities = np.array([cosine_similarity(query_vec, img_vec) for img_vec in test_label_np])\n",
    "        top_k_indices = np.argsort(-similarities)[:5]  # 假设选择相似度最高的5张图片\n",
    "        line = ','.join(list(test_label['filename'][top_k_indices])) + '\\n'\n",
    "        f.write(line)"
   ]
  }
 ],
 "metadata": {
  "kernelspec": {
   "display_name": "Python 3 (ipykernel)",
   "language": "python",
   "name": "python3"
  },
  "language_info": {
   "codemirror_mode": {
    "name": "ipython",
    "version": 3
   },
   "file_extension": ".py",
   "mimetype": "text/x-python",
   "name": "python",
   "nbconvert_exporter": "python",
   "pygments_lexer": "ipython3",
   "version": "3.10.10"
  }
 },
 "nbformat": 4,
 "nbformat_minor": 1
}
